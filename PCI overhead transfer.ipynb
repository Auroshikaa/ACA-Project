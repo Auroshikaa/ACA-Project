{
  "nbformat": 4,
  "nbformat_minor": 0,
  "metadata": {
    "colab": {
      "provenance": [],
      "gpuType": "T4"
    },
    "kernelspec": {
      "name": "python3",
      "display_name": "Python 3"
    },
    "language_info": {
      "name": "python"
    },
    "accelerator": "GPU"
  },
  "cells": [
    {
      "cell_type": "code",
      "execution_count": 10,
      "metadata": {
        "colab": {
          "base_uri": "https://localhost:8080/"
        },
        "id": "e39qHUFoU1lj",
        "outputId": "27de1086-2e4b-4b74-907f-e0f69241fe6d"
      },
      "outputs": [
        {
          "output_type": "stream",
          "name": "stdout",
          "text": [
            "CPU → GPU + Forward Pass Time: 0.1901s\n",
            "Peak GPU Memory (MB): 5513.04\n"
          ]
        }
      ],
      "source": [
        "import time\n",
        "model = model.cpu()\n",
        "input_ids = tokenizer(\"Simulating PCIe transfer.\", return_tensors=\"pt\")[\"input_ids\"].to(\"cuda\")\n",
        "\n",
        "\n",
        "start_time = time.time()\n",
        "model = model.to(\"cuda\")\n",
        "output = model(input_ids)\n",
        "elapsed = time.time() - start_time\n",
        "\n",
        "print(f\"CPU → GPU + Forward Pass Time: {elapsed:.4f}s\")\n",
        "print(f\"Peak GPU Memory (MB): {torch.cuda.max_memory_allocated() / 1e6:.2f}\")\n"
      ]
    },
    {
      "cell_type": "code",
      "source": [],
      "metadata": {
        "id": "PCY7ACEYQ4Ls"
      },
      "execution_count": null,
      "outputs": []
    }
  ]
}