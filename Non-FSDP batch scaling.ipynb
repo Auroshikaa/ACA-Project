{
  "nbformat": 4,
  "nbformat_minor": 0,
  "metadata": {
    "colab": {
      "provenance": [],
      "gpuType": "T4"
    },
    "kernelspec": {
      "name": "python3",
      "display_name": "Python 3"
    },
    "language_info": {
      "name": "python"
    },
    "accelerator": "GPU"
  },
  "cells": [
    {
      "cell_type": "code",
      "execution_count": 6,
      "metadata": {
        "colab": {
          "base_uri": "https://localhost:8080/"
        },
        "id": "e39qHUFoU1lj",
        "outputId": "ebb14dab-08aa-4738-fd2d-2becf385128a"
      },
      "outputs": [
        {
          "output_type": "stream",
          "name": "stdout",
          "text": [
            "Batch Size Scaling (Non-FSDP)\n",
            "Batch 2 | Loss: 4.2208 | Time: 0.02s | GPU: 5130.27 MB\n",
            "Batch 4 | Loss: 4.2352 | Time: 0.02s | GPU: 5322.03 MB\n",
            "Batch 8 | Loss: 4.1710 | Time: 0.02s | GPU: 5336.15 MB\n",
            "Batch 16 | Loss: 4.2240 | Time: 0.02s | GPU: 5363.26 MB\n",
            "Batch 32 | Loss: 4.2185 | Time: 0.02s | GPU: 5416.06 MB\n",
            "Batch 64 | Loss: 4.2549 | Time: 0.02s | GPU: 5513.04 MB\n",
            "Non-FSDP Batch Scaling Complete\n"
          ]
        }
      ],
      "source": [
        "!pip install -q transformers accelerate\n",
        "\n",
        "import torch\n",
        "from transformers import AutoModelForCausalLM, AutoTokenizer\n",
        "import time\n",
        "import os\n",
        "\n",
        "from torch.cuda import OutOfMemoryError\n",
        "\n",
        "device = torch.device(\"cuda\" if torch.cuda.is_available() else \"cpu\")\n",
        "\n",
        "tokenizer = AutoTokenizer.from_pretrained(\"distilgpt2\")\n",
        "tokenizer.pad_token = tokenizer.eos_token\n",
        "\n",
        "print(\"Batch Size Scaling (Non-FSDP)\")\n",
        "\n",
        "batch_size = 2\n",
        "max_batch = 64\n",
        "successes = []\n",
        "\n",
        "while batch_size <= max_batch:\n",
        "    input_ids = tokenizer(\n",
        "        [\"The future of AI is very bright.\"] * batch_size,\n",
        "        return_tensors=\"pt\",\n",
        "        padding=True,\n",
        "        truncation=True\n",
        "    ).input_ids.to(device)\n",
        "    labels = input_ids.clone()\n",
        "\n",
        "    model = AutoModelForCausalLM.from_pretrained(\"distilgpt2\").to(device)\n",
        "    optimizer = torch.optim.AdamW(model.parameters(), lr=5e-5)\n",
        "\n",
        "    try:\n",
        "        model.train()\n",
        "        torch.cuda.reset_peak_memory_stats()\n",
        "        start = time.time()\n",
        "        outputs = model(input_ids, labels=labels)\n",
        "        loss = outputs.loss\n",
        "        loss.backward()\n",
        "        optimizer.step()\n",
        "        optimizer.zero_grad()\n",
        "        end = time.time()\n",
        "\n",
        "        gpu_mem = torch.cuda.max_memory_allocated() / 1e6\n",
        "        successes.append((batch_size, round(loss.item(), 4), round(end-start, 2), round(gpu_mem, 2)))\n",
        "        print(f\"Batch {batch_size} | Loss: {loss.item():.4f} | Time: {end-start:.2f}s | GPU: {gpu_mem:.2f} MB\")\n",
        "        batch_size *= 2\n",
        "\n",
        "    except RuntimeError as e:\n",
        "        print(f\"Batch {batch_size} FAILED: {str(e).splitlines()[0]}\")\n",
        "        break\n",
        "\n",
        "print(\"Non-FSDP Batch Scaling Complete\")\n"
      ]
    },
    {
      "cell_type": "code",
      "source": [],
      "metadata": {
        "id": "PCY7ACEYQ4Ls"
      },
      "execution_count": null,
      "outputs": []
    }
  ]
}