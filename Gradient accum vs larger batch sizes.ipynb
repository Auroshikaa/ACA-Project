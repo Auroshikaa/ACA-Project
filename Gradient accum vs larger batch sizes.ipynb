{
  "nbformat": 4,
  "nbformat_minor": 0,
  "metadata": {
    "colab": {
      "provenance": [],
      "gpuType": "T4"
    },
    "kernelspec": {
      "name": "python3",
      "display_name": "Python 3"
    },
    "language_info": {
      "name": "python"
    },
    "accelerator": "GPU"
  },
  "cells": [
    {
      "cell_type": "code",
      "execution_count": 7,
      "metadata": {
        "colab": {
          "base_uri": "https://localhost:8080/"
        },
        "id": "e39qHUFoU1lj",
        "outputId": "8e8e97a0-5649-44b0-df70-915f3d618f08"
      },
      "outputs": [
        {
          "output_type": "stream",
          "name": "stdout",
          "text": [
            "Accum Step 1 | Loss: 0.6129\n",
            "Accum Step 2 | Loss: 0.6013\n",
            "Accum Step 3 | Loss: 0.6107\n",
            "Accum Step 4 | Loss: 0.6119\n",
            "Accum Step 5 | Loss: 0.5961\n",
            "Accum Step 6 | Loss: 0.5941\n",
            "Accum Step 7 | Loss: 0.6070\n",
            "Accum Step 8 | Loss: 0.5954\n"
          ]
        }
      ],
      "source": [
        "from transformers import AutoModelForCausalLM, AutoTokenizer\n",
        "import torch\n",
        "\n",
        "tokenizer = AutoTokenizer.from_pretrained(\"distilgpt2\")\n",
        "tokenizer.pad_token = tokenizer.eos_token\n",
        "model = AutoModelForCausalLM.from_pretrained(\"distilgpt2\").to(\"cuda\")\n",
        "model.train()\n",
        "\n",
        "optimizer = torch.optim.AdamW(model.parameters(), lr=5e-5)\n",
        "\n",
        "accum_steps = 8\n",
        "input_texts = [\"The future of AI is bright.\"] * 4\n",
        "\n",
        "for step in range(accum_steps):\n",
        "    inputs = tokenizer(input_texts, return_tensors=\"pt\", padding=True, truncation=True)\n",
        "    inputs = {k: v.to(\"cuda\") for k, v in inputs.items()}\n",
        "    outputs = model(**inputs, labels=inputs[\"input_ids\"])\n",
        "    loss = outputs.loss / accum_steps\n",
        "    loss.backward()\n",
        "    print(f\"Accum Step {step+1} | Loss: {loss.item():.4f}\")\n",
        "\n",
        "optimizer.step()\n"
      ]
    },
    {
      "cell_type": "code",
      "source": [],
      "metadata": {
        "id": "PCY7ACEYQ4Ls"
      },
      "execution_count": null,
      "outputs": []
    }
  ]
}