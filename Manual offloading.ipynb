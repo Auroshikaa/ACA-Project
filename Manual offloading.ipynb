{
  "nbformat": 4,
  "nbformat_minor": 0,
  "metadata": {
    "colab": {
      "provenance": [],
      "gpuType": "T4"
    },
    "kernelspec": {
      "name": "python3",
      "display_name": "Python 3"
    },
    "language_info": {
      "name": "python"
    },
    "accelerator": "GPU"
  },
  "cells": [
    {
      "cell_type": "code",
      "execution_count": 4,
      "metadata": {
        "colab": {
          "base_uri": "https://localhost:8080/"
        },
        "id": "e39qHUFoU1lj",
        "outputId": "bbe1c387-156d-4dba-e63f-835b0dc91f81"
      },
      "outputs": [
        {
          "output_type": "stream",
          "name": "stdout",
          "text": [
            "Manual offloading simulation\n",
            "[Offload Sim] Success | Loss: 4.1435 | Time: 0.49s | GPU: 2342.12 MB\n"
          ]
        }
      ],
      "source": [
        "!pip install -q transformers accelerate\n",
        "\n",
        "import torch\n",
        "from transformers import AutoModelForCausalLM, AutoTokenizer\n",
        "import time\n",
        "import os\n",
        "\n",
        "device = torch.device(\"cuda\" if torch.cuda.is_available() else \"cpu\")\n",
        "cpu = torch.device(\"cpu\")\n",
        "\n",
        "tokenizer = AutoTokenizer.from_pretrained(\"distilgpt2\")\n",
        "tokenizer.pad_token = tokenizer.eos_token\n",
        "\n",
        "input_ids = tokenizer(\n",
        "    [\"The future of AI is very bright.\"] * 4,\n",
        "    return_tensors=\"pt\",\n",
        "    padding=True,\n",
        "    truncation=True\n",
        ").input_ids.to(device)\n",
        "labels = input_ids.clone()\n",
        "\n",
        "model = AutoModelForCausalLM.from_pretrained(\"distilgpt2\").to(device)\n",
        "optimizer = torch.optim.AdamW(model.parameters(), lr=5e-5)\n",
        "\n",
        "print(\"Manual offloading simulation\")\n",
        "torch.cuda.reset_peak_memory_stats()\n",
        "start = time.time()\n",
        "\n",
        "try:\n",
        "    model.train()\n",
        "    outputs = model(input_ids, labels=labels)\n",
        "    loss = outputs.loss\n",
        "\n",
        "    model.to(cpu)\n",
        "    time.sleep(0.1)\n",
        "    model.to(device)\n",
        "\n",
        "    loss.backward()\n",
        "    optimizer.step()\n",
        "    optimizer.zero_grad()\n",
        "\n",
        "    end = time.time()\n",
        "\n",
        "    print(f\"[Offload Sim] Success | Loss: {loss.item():.4f} | Time: {end-start:.2f}s | GPU: {torch.cuda.max_memory_allocated() / 1e6:.2f} MB\")\n",
        "except RuntimeError as e:\n",
        "    end = time.time()\n",
        "    print(f\"[Offload Sim] Failed: {e} | Time: {end-start:.2f}s\")\n"
      ]
    },
    {
      "cell_type": "code",
      "source": [],
      "metadata": {
        "id": "PCY7ACEYQ4Ls"
      },
      "execution_count": null,
      "outputs": []
    }
  ]
}