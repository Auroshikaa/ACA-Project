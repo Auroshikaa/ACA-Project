{
  "nbformat": 4,
  "nbformat_minor": 0,
  "metadata": {
    "colab": {
      "provenance": [],
      "gpuType": "T4"
    },
    "kernelspec": {
      "name": "python3",
      "display_name": "Python 3"
    },
    "language_info": {
      "name": "python"
    },
    "accelerator": "GPU"
  },
  "cells": [
    {
      "cell_type": "code",
      "execution_count": 2,
      "metadata": {
        "colab": {
          "base_uri": "https://localhost:8080/"
        },
        "id": "e39qHUFoU1lj",
        "outputId": "02a6b81c-1284-470d-cb6d-6564c243037f"
      },
      "outputs": [
        {
          "output_type": "stream",
          "name": "stdout",
          "text": [
            "FSDP in memory-limited mode\n",
            "[FSDP] Success | Loss: 4.0359 | Time: 0.06s | GPU: 2696.46 MB\n"
          ]
        }
      ],
      "source": [
        "!pip install -q transformers accelerate\n",
        "\n",
        "import torch\n",
        "from transformers import AutoModelForCausalLM, AutoTokenizer\n",
        "from torch.distributed.fsdp import FullyShardedDataParallel as FSDP\n",
        "import time\n",
        "import os\n",
        "\n",
        "os.environ[\"PYTORCH_CUDA_ALLOC_CONF\"] = \"max_split_size_mb:64\"\n",
        "os.environ[\"MASTER_ADDR\"] = \"localhost\"\n",
        "os.environ[\"MASTER_PORT\"] = \"12355\"\n",
        "torch.distributed.init_process_group(\"gloo\", rank=0, world_size=1)\n",
        "\n",
        "device = torch.device(\"cuda\" if torch.cuda.is_available() else \"cpu\")\n",
        "tokenizer = AutoTokenizer.from_pretrained(\"distilgpt2\")\n",
        "\n",
        "tokenizer.pad_token = tokenizer.eos_token\n",
        "input_ids = tokenizer([\"The future of AI is very bright.\"] * 8, return_tensors=\"pt\", padding=True, truncation=True).input_ids.to(device)\n",
        "labels = input_ids.clone()\n",
        "\n",
        "model_fsdp = AutoModelForCausalLM.from_pretrained(\"distilgpt2\").to(device)\n",
        "model_fsdp = FSDP(model_fsdp)\n",
        "optimizer = torch.optim.AdamW(model_fsdp.parameters(), lr=5e-5)\n",
        "\n",
        "print(\"FSDP in memory-limited mode\")\n",
        "torch.cuda.reset_peak_memory_stats()\n",
        "start = time.time()\n",
        "try:\n",
        "    outputs = model_fsdp(input_ids, labels=labels)\n",
        "    loss = outputs.loss\n",
        "    loss.backward()\n",
        "    optimizer.step()\n",
        "    optimizer.zero_grad()\n",
        "    end = time.time()\n",
        "    print(f\"[FSDP] Success | Loss: {loss.item():.4f} | Time: {end-start:.2f}s | GPU: {torch.cuda.max_memory_allocated() / 1e6:.2f} MB\")\n",
        "except RuntimeError as e:\n",
        "    print(f\"[FSDP] Failed: {e}\")\n",
        "end = time.time()\n",
        "\n",
        "torch.distributed.destroy_process_group()\n"
      ]
    },
    {
      "cell_type": "code",
      "source": [],
      "metadata": {
        "id": "PCY7ACEYQ4Ls"
      },
      "execution_count": null,
      "outputs": []
    }
  ]
}