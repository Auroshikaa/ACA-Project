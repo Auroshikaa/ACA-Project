{
  "nbformat": 4,
  "nbformat_minor": 0,
  "metadata": {
    "colab": {
      "provenance": [],
      "gpuType": "T4"
    },
    "kernelspec": {
      "name": "python3",
      "display_name": "Python 3"
    },
    "language_info": {
      "name": "python"
    },
    "accelerator": "GPU"
  },
  "cells": [
    {
      "cell_type": "code",
      "execution_count": 3,
      "metadata": {
        "colab": {
          "base_uri": "https://localhost:8080/"
        },
        "id": "e39qHUFoU1lj",
        "outputId": "e318eb6e-7216-4285-aed9-7311c8ce3219"
      },
      "outputs": [
        {
          "output_type": "stream",
          "name": "stdout",
          "text": [
            "Non-FSDP in memory-limited mode\n",
            "[Non-FSDP] Success | Loss: 4.0359 | Time: 0.03s | GPU: 3025.59 MB\n"
          ]
        }
      ],
      "source": [
        "!pip install -q transformers accelerate\n",
        "\n",
        "import torch\n",
        "from transformers import AutoModelForCausalLM, AutoTokenizer\n",
        "import time\n",
        "import os\n",
        "\n",
        "os.environ[\"PYTORCH_CUDA_ALLOC_CONF\"] = \"max_split_size_mb:64\"\n",
        "\n",
        "device = torch.device(\"cuda\" if torch.cuda.is_available() else \"cpu\")\n",
        "tokenizer = AutoTokenizer.from_pretrained(\"distilgpt2\")\n",
        "tokenizer.pad_token = tokenizer.eos_token\n",
        "\n",
        "input_ids = tokenizer(\n",
        "    [\"The future of AI is very bright.\"] * 8,\n",
        "    return_tensors=\"pt\",\n",
        "    padding=True,\n",
        "    truncation=True\n",
        ").input_ids.to(device)\n",
        "labels = input_ids.clone()\n",
        "\n",
        "model = AutoModelForCausalLM.from_pretrained(\"distilgpt2\").to(device)\n",
        "optimizer = torch.optim.AdamW(model.parameters(), lr=5e-5)\n",
        "\n",
        "print(\"Non-FSDP in memory-limited mode\")\n",
        "torch.cuda.reset_peak_memory_stats()\n",
        "start = time.time()\n",
        "\n",
        "try:\n",
        "    outputs = model(input_ids, labels=labels)\n",
        "    loss = outputs.loss\n",
        "    loss.backward()\n",
        "    optimizer.step()\n",
        "    optimizer.zero_grad()\n",
        "    end = time.time()\n",
        "    print(f\"[Non-FSDP] Success | Loss: {loss.item():.4f} | Time: {end-start:.2f}s | GPU: {torch.cuda.max_memory_allocated() / 1e6:.2f} MB\")\n",
        "except RuntimeError as e:\n",
        "    end = time.time()\n",
        "    print(f\"[Non-FSDP] Failed: {e} | Time: {end-start:.2f}s\")\n"
      ]
    },
    {
      "cell_type": "code",
      "source": [],
      "metadata": {
        "id": "PCY7ACEYQ4Ls"
      },
      "execution_count": null,
      "outputs": []
    }
  ]
}